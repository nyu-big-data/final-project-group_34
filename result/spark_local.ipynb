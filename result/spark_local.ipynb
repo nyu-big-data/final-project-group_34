{
 "cells": [
  {
   "cell_type": "code",
   "execution_count": 4,
   "id": "sixth-migration",
   "metadata": {},
   "outputs": [],
   "source": [
    "#Use getpass to obtain user netID\n",
    "import getpass\n",
    "from os import lseek\n",
    "import sys\n",
    "\n",
    "# Import Libraries\n",
    "from pyspark.sql import SparkSession, SQLContext\n",
    "from pyspark.context import SparkContext\n",
    "from pyspark.mllib.evaluation import RankingMetrics\n",
    "from pyspark import SparkContext,SparkConf\n",
    "\n",
    "import pandas as pd\n",
    "import numpy as np\n",
    "import random\n",
    "import warnings\n",
    "import pyspark\n",
    "import sys\n",
    "\n",
    "# Import Libraries\n",
    "from pyspark.sql import SparkSession\n",
    "from pyspark.sql.types import StructType, StructField, FloatType, BooleanType\n",
    "from pyspark.sql.types import DoubleType, IntegerType, StringType\n",
    "from pyspark.ml.evaluation import RegressionEvaluator\n",
    "from pyspark.mllib.evaluation import RankingMetrics\n",
    "from pyspark import SparkConf, SparkContext\n",
    "from pyspark.ml.recommendation import ALS\n",
    "from pyspark.sql import Row\n",
    "from math import sqrt"
   ]
  },
  {
   "cell_type": "code",
   "execution_count": 7,
   "id": "waiting-template",
   "metadata": {},
   "outputs": [
    {
     "name": "stdout",
     "output_type": "stream",
     "text": [
      "maxIter:  5 regParam:  0.1 rank:  20\n",
      "start at:  1652805393.9530292\n",
      "Ratings\n"
     ]
    }
   ],
   "source": [
    "spark = SparkSession.builder.appName('popularity').getOrCreate()\n",
    "rank = 20\n",
    "regParam = 0.1\n",
    "maxIter = 5\n",
    "\n",
    "ratings_train = spark.read.parquet('train_combined_small_set.parquet')\n",
    "ratings_val = spark.read.parquet('val_small_set.parquet')\n",
    "\n",
    "\n",
    "start_time = time.time()\n",
    "print('maxIter: ', maxIter, 'regParam: ', regParam, 'rank: ', rank)\n",
    "print('start at: ', start_time)\n",
    "ratings_train.createOrReplaceTempView('ratings_train')\n",
    "print(\"Ratings\")"
   ]
  },
  {
   "cell_type": "code",
   "execution_count": 9,
   "id": "pretty-tribune",
   "metadata": {},
   "outputs": [
    {
     "name": "stderr",
     "output_type": "stream",
     "text": [
      "22/05/17 12:36:53 WARN InstanceBuilder$NativeBLAS: Failed to load implementation from:dev.ludovic.netlib.blas.JNIBLAS\n",
      "22/05/17 12:36:53 WARN InstanceBuilder$NativeBLAS: Failed to load implementation from:dev.ludovic.netlib.blas.ForeignLinkerBLAS\n",
      "22/05/17 12:36:54 WARN InstanceBuilder$NativeLAPACK: Failed to load implementation from:dev.ludovic.netlib.lapack.JNILAPACK\n"
     ]
    }
   ],
   "source": [
    "als = ALS(rank = rank, maxIter=maxIter, regParam=regParam, userCol='userId', itemCol='movieId', ratingCol='rating', coldStartStrategy=\"drop\")\n",
    "model = als.fit(ratings_train)"
   ]
  },
  {
   "cell_type": "code",
   "execution_count": 13,
   "id": "cross-custody",
   "metadata": {},
   "outputs": [
    {
     "name": "stdout",
     "output_type": "stream",
     "text": [
      "+------+-------+------+----------+\n",
      "|userId|movieId|rating| timestamp|\n",
      "+------+-------+------+----------+\n",
      "|     2|    318|   3.0|1445714835|\n",
      "|     2|    333|   4.0|1445715029|\n",
      "|     2|   1704|   4.5|1445715228|\n",
      "|     2|   3578|   4.0|1445714885|\n",
      "|     2|   6874|   4.0|1445714952|\n",
      "|     2|   8798|   3.5|1445714960|\n",
      "|     2|  46970|   4.0|1445715013|\n",
      "|     2|  48516|   4.0|1445715064|\n",
      "|     2|  58559|   4.5|1445715141|\n",
      "|     2|  60756|   5.0|1445714980|\n",
      "|     2|  68157|   4.5|1445715154|\n",
      "|     2|  71535|   3.0|1445714974|\n",
      "|     2|  74458|   4.0|1445714926|\n",
      "|     2|  77455|   3.0|1445714941|\n",
      "|     2|  79132|   4.0|1445714841|\n",
      "|     2|  80489|   4.5|1445715340|\n",
      "|     2|  80906|   5.0|1445715172|\n",
      "|     2|  86345|   4.0|1445715166|\n",
      "|     2|  89774|   5.0|1445715189|\n",
      "|     2|  91529|   3.5|1445714891|\n",
      "+------+-------+------+----------+\n",
      "only showing top 20 rows\n",
      "\n"
     ]
    }
   ],
   "source": [
    "ratings_train.createOrReplaceTempView('ratings_train')\n",
    "ratings_train.show()"
   ]
  },
  {
   "cell_type": "code",
   "execution_count": 14,
   "id": "15fa8615",
   "metadata": {},
   "outputs": [
    {
     "name": "stderr",
     "output_type": "stream",
     "text": [
      "[Stage 73:===========>                                             (2 + 8) / 10]\r"
     ]
    },
    {
     "name": "stdout",
     "output_type": "stream",
     "text": [
      "+------+\n",
      "|userId|\n",
      "+------+\n",
      "|    91|\n",
      "|   140|\n",
      "|   556|\n",
      "|   182|\n",
      "|    41|\n",
      "|   154|\n",
      "|   425|\n",
      "|   381|\n",
      "|   438|\n",
      "|   509|\n",
      "|   288|\n",
      "|   576|\n",
      "|   151|\n",
      "|   414|\n",
      "|   375|\n",
      "|   597|\n",
      "|   368|\n",
      "|     6|\n",
      "|    86|\n",
      "|   169|\n",
      "+------+\n",
      "only showing top 20 rows\n",
      "\n"
     ]
    },
    {
     "name": "stderr",
     "output_type": "stream",
     "text": [
      "\r",
      "                                                                                \r"
     ]
    }
   ],
   "source": [
    "model = als.fit(ratings_train)\n",
    "# ratings_val = ratings_val_orig\n",
    "ratings_val.createOrReplaceTempView('ratings_val')\n",
    "userSubsetRecs = spark.sql('select userId from ratings_val group by userId')\n",
    "userSubsetRecs.createOrReplaceTempView('userSubsetRecs')\n",
    "\n",
    "userSubsetRecs.show()"
   ]
  },
  {
   "cell_type": "code",
   "execution_count": 15,
   "id": "55418197",
   "metadata": {},
   "outputs": [
    {
     "name": "stderr",
     "output_type": "stream",
     "text": [
      "/Users/ryanjang123/opt/anaconda3/lib/python3.9/site-packages/pyspark/sql/context.py:125: FutureWarning: Deprecated in 3.0.0. Use SparkSession.builder.getOrCreate() instead.\n",
      "  warnings.warn(\n"
     ]
    }
   ],
   "source": [
    "predicted = model.recommendForUserSubset(userSubsetRecs, 100)"
   ]
  },
  {
   "cell_type": "code",
   "execution_count": 16,
   "id": "a7d919dd",
   "metadata": {},
   "outputs": [],
   "source": [
    "def extractMovieIds(rec):\n",
    "    return [row.movieId for row in rec]\n",
    "\n",
    "extractRecMovieIdsUDF = fn.udf(lambda r: extractMovieIds(r), T.ArrayType(T.IntegerType()))\n",
    "predicted = predicted.select(\n",
    "    fn.col('userId').alias('pr_userId'),\n",
    "    extractRecMovieIdsUDF('recommendations').alias('rec_movie_id_indices')\n",
    ")"
   ]
  },
  {
   "cell_type": "code",
   "execution_count": 17,
   "id": "878a08c2",
   "metadata": {},
   "outputs": [
    {
     "name": "stderr",
     "output_type": "stream",
     "text": [
      "                                                                                \r"
     ]
    }
   ],
   "source": [
    "file_name = 'val_ALS_small_predicted_'+str(rank)+str(regParam)+str(maxIter) +'.parquet'\n",
    "predicted.write.mode('overwrite').parquet(file_name)"
   ]
  },
  {
   "cell_type": "code",
   "execution_count": null,
   "id": "92e777af",
   "metadata": {},
   "outputs": [],
   "source": []
  }
 ],
 "metadata": {
  "kernelspec": {
   "display_name": "Python 3 (ipykernel)",
   "language": "python",
   "name": "python3"
  },
  "language_info": {
   "codemirror_mode": {
    "name": "ipython",
    "version": 3
   },
   "file_extension": ".py",
   "mimetype": "text/x-python",
   "name": "python",
   "nbconvert_exporter": "python",
   "pygments_lexer": "ipython3",
   "version": "3.9.7"
  }
 },
 "nbformat": 4,
 "nbformat_minor": 5
}
