{
 "cells": [
  {
   "cell_type": "code",
   "execution_count": 34,
   "id": "respiratory-superintendent",
   "metadata": {},
   "outputs": [],
   "source": [
    "import os\n",
    "from glob import glob\n",
    "\n",
    "import dask\n",
    "import dask.bag as db\n",
    "import dask.dataframe as dd\n",
    "from distributed import Client\n",
    "from dask_jobqueue import SLURMCluster\n",
    "\n",
    "from IPython.display import display\n",
    "\n",
    "import pandas as pd\n",
    "from sklearn.model_selection import train_test_split"
   ]
  },
  {
   "cell_type": "code",
   "execution_count": null,
   "id": "unusual-integer",
   "metadata": {},
   "outputs": [],
   "source": []
  },
  {
   "cell_type": "code",
   "execution_count": 35,
   "id": "casual-headset",
   "metadata": {},
   "outputs": [
    {
     "name": "stderr",
     "output_type": "stream",
     "text": [
      "/ext3/miniconda3/lib/python3.8/site-packages/distributed/node.py:151: UserWarning: Port 8787 is already in use.\n",
      "Perhaps you already have a cluster running?\n",
      "Hosting the HTTP server on port 40903 instead\n",
      "  warnings.warn(\n"
     ]
    },
    {
     "data": {
      "application/vnd.jupyter.widget-view+json": {
       "model_id": "b7dfe0d4530c45a39ac204e6fc146464",
       "version_major": 2,
       "version_minor": 0
      },
      "text/plain": [
       "VBox(children=(HTML(value='<h2>SLURMCluster</h2>'), HBox(children=(HTML(value='\\n<div>\\n  <style scoped>\\n    …"
      ]
     },
     "metadata": {},
     "output_type": "display_data"
    },
    {
     "data": {
      "text/html": [
       "<table style=\"border: 2px solid white;\">\n",
       "<tr>\n",
       "<td style=\"vertical-align: top; border: 0px solid white\">\n",
       "<h3 style=\"text-align: left;\">Client</h3>\n",
       "<ul style=\"text-align: left; list-style: none; margin: 0; padding: 0;\">\n",
       "  <li><b>Scheduler: </b>tcp://10.32.35.120:35739</li>\n",
       "  <li><b>Dashboard: </b><a href='http://10.32.35.120:40903/status' target='_blank'>http://10.32.35.120:40903/status</a></li>\n",
       "</ul>\n",
       "</td>\n",
       "<td style=\"vertical-align: top; border: 0px solid white\">\n",
       "<h3 style=\"text-align: left;\">Cluster</h3>\n",
       "<ul style=\"text-align: left; list-style:none; margin: 0; padding: 0;\">\n",
       "  <li><b>Workers: </b>0</li>\n",
       "  <li><b>Cores: </b>0</li>\n",
       "  <li><b>Memory: </b>0 B</li>\n",
       "</ul>\n",
       "</td>\n",
       "</tr>\n",
       "</table>"
      ],
      "text/plain": [
       "<Client: 'tcp://10.32.35.120:35739' processes=0 threads=0, memory=0 B>"
      ]
     },
     "metadata": {},
     "output_type": "display_data"
    }
   ],
   "source": [
    "# Set LOCAL to True for single-machine execution while developing\n",
    "# Set LOCAL to False for cluster execution\n",
    "# LOCAL = True\n",
    "LOCAL = False\n",
    "\n",
    "if LOCAL:\n",
    "    # This line creates a single-machine dask client\n",
    "    client = Client()\n",
    "else:    \n",
    "    # This line creates a SLURM cluster dask and dask client\n",
    "    # Logging outputs will be stored in /scratch/{your-netid}\n",
    "    \n",
    "    cluster = SLURMCluster(memory='4GB', cores=, python='/scratch/work/public/dask/bin/python', \n",
    "                               local_directory='/tmp/{}/'.format(os.environ['SLURM_JOB_USER']),\n",
    "                               job_extra=['--output=/scratch/{}/slurm-%j.out'.format(os.environ['SLURM_JOB_USER'])])\n",
    "\n",
    "    cluster.submit_command = 'slurm'\n",
    "    cluster.scale(100)\n",
    "\n",
    "    display(cluster)\n",
    "    client = Client(cluster)\n",
    "\n",
    "display(client)"
   ]
  },
  {
   "cell_type": "code",
   "execution_count": null,
   "id": "least-peter",
   "metadata": {},
   "outputs": [],
   "source": [
    "ratings = dd.read_csv(\"/scratch/work/courses/DSGA1004-2021/movielens/ml-latest-small/ratings.csv\")\n",
    "# ratings = dd.read_csv(\"/scratch/work/courses/DSGA1004-2021/movielens/ml-latest/ratings.csv\")\n",
    "# mov = dd.read_csv(\"/scratch/work/courses/DSGA1004-2021/movielens/ml-latest-small/movies.csv\")\n",
    "ratings = pd.DataFrame(ratings.compute())\n",
    "# mov = pd.DataFrame(mov.compute())"
   ]
  },
  {
   "cell_type": "code",
   "execution_count": null,
   "id": "upper-manual",
   "metadata": {},
   "outputs": [],
   "source": [
    "# mov\n"
   ]
  },
  {
   "cell_type": "code",
   "execution_count": null,
   "id": "internal-giving",
   "metadata": {},
   "outputs": [],
   "source": [
    "# ratings = ratings.merge(mov, how = 'right', on = \"movieId\")"
   ]
  },
  {
   "cell_type": "code",
   "execution_count": null,
   "id": "running-choice",
   "metadata": {},
   "outputs": [],
   "source": [
    "ratings"
   ]
  },
  {
   "cell_type": "code",
   "execution_count": null,
   "id": "allied-disposal",
   "metadata": {},
   "outputs": [],
   "source": [
    "\n",
    "user = pd.DataFrame(ratings.userId.unique())\n",
    "train_user, testval_user = train_test_split(user, test_size=0.4)\n",
    "\n",
    "\n",
    "movie = pd.DataFrame(ratings.movieId.unique())\n",
    "temp1_movie, temp2_movie = train_test_split(movie, test_size = 0.7)\n",
    "train_set = ratings[ratings['userId'].isin(list(train_user[0]))]\n",
    "testval_set = ratings[ratings['userId'].isin(list(testval_user[0]))]\n",
    "train_sending = testval_set[testval_set['movieId'].isin(list(temp1_movie[0]))]\n",
    "testval_cluster =testval_set[testval_set['movieId'].isin(list(temp2_movie[0]))]\n",
    "\n",
    "temp = pd.DataFrame(testval_set.userId.unique())\n",
    "val_user, test_user = train_test_split(temp, test_size = 0.5)\n",
    "val_set = testval_cluster[testval_cluster['userId'].isin(list(val_user[0]))]\n",
    "test_set = testval_cluster[testval_cluster['userId'].isin(list(test_user[0]))]"
   ]
  },
  {
   "cell_type": "code",
   "execution_count": null,
   "id": "seven-mobile",
   "metadata": {},
   "outputs": [],
   "source": [
    "val_set"
   ]
  },
  {
   "cell_type": "code",
   "execution_count": null,
   "id": "national-finnish",
   "metadata": {},
   "outputs": [],
   "source": []
  },
  {
   "cell_type": "code",
   "execution_count": null,
   "id": "atomic-alaska",
   "metadata": {},
   "outputs": [],
   "source": [
    "test_set"
   ]
  },
  {
   "cell_type": "code",
   "execution_count": null,
   "id": "physical-stomach",
   "metadata": {},
   "outputs": [],
   "source": []
  },
  {
   "cell_type": "code",
   "execution_count": null,
   "id": "dental-football",
   "metadata": {},
   "outputs": [],
   "source": [
    "testval_set"
   ]
  },
  {
   "cell_type": "code",
   "execution_count": null,
   "id": "southeast-cartridge",
   "metadata": {},
   "outputs": [],
   "source": [
    "# concatenate back to train set\n",
    "final_train = pd.concat([train_set, train_sending])\n",
    "# ran into concat kernel dead error\n",
    "# convert it back to dask dataframe\n",
    "# train_set=  dd.from_pandas(train_set, chunksize = 100000)\n",
    "# train_sending = dd.from_pandas(train_sending, chunksize= 100000)"
   ]
  },
  {
   "cell_type": "code",
   "execution_count": null,
   "id": "hidden-reaction",
   "metadata": {},
   "outputs": [],
   "source": [
    "# final_train = dd.concat([train_set, train_sending], axis=0)"
   ]
  },
  {
   "cell_type": "code",
   "execution_count": null,
   "id": "functional-peeing",
   "metadata": {},
   "outputs": [],
   "source": [
    "final_train"
   ]
  },
  {
   "cell_type": "code",
   "execution_count": null,
   "id": "national-perfume",
   "metadata": {},
   "outputs": [],
   "source": [
    "train_small_data = final_train\n",
    "val_small_data = val_set\n",
    "test_small_data = train_set\n",
    "# train_large_data = final_train\n",
    "# val_large_data = val_set\n",
    "# test_large_data = train_set"
   ]
  },
  {
   "cell_type": "code",
   "execution_count": null,
   "id": "stunning-amplifier",
   "metadata": {},
   "outputs": [],
   "source": [
    "train_small_data.to_csv(\"train_small_data.csv\")\n",
    "val_small_data.to_csv(\"val_small_data.csv\")\n",
    "test_small_data.to_csv(\"test_small_data.csv\")\n",
    "# train_large_data.to_csv(\"train_large_data.csv\")\n",
    "# val_large_data.to_csv(\"val_large_data.csv\")\n",
    "# test_large_data.to_csv(\"test_large_data.csv\")"
   ]
  },
  {
   "cell_type": "code",
   "execution_count": null,
   "id": "demographic-brass",
   "metadata": {},
   "outputs": [],
   "source": []
  },
  {
   "cell_type": "code",
   "execution_count": null,
   "id": "prescription-portrait",
   "metadata": {},
   "outputs": [],
   "source": []
  }
 ],
 "metadata": {
  "kernelspec": {
   "display_name": "Python 3",
   "language": "python",
   "name": "python3"
  },
  "language_info": {
   "codemirror_mode": {
    "name": "ipython",
    "version": 3
   },
   "file_extension": ".py",
   "mimetype": "text/x-python",
   "name": "python",
   "nbconvert_exporter": "python",
   "pygments_lexer": "ipython3",
   "version": "3.8.5"
  }
 },
 "nbformat": 4,
 "nbformat_minor": 5
}
