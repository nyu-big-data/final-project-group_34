{
 "cells": [
  {
   "cell_type": "code",
   "execution_count": 1,
   "id": "5d7bcf64",
   "metadata": {},
   "outputs": [],
   "source": [
    "# import proper tools to partition data\n",
    "import pandas as pd\n",
    "from sklearn.model_selection import train_test_split"
   ]
  },
  {
   "cell_type": "code",
   "execution_count": null,
   "id": "18c7fc99",
   "metadata": {},
   "outputs": [],
   "source": [
    "movie_small = pd.read.csv(f'hdfs:/user/yj2369/movielens/ml-latest-small/ratings.csv')\n",
    "movie = pd.read.csv(f'hdfs:/user/yj2369/movielens/ml-latest.csv')"
   ]
  },
  {
   "cell_type": "code",
   "execution_count": null,
   "id": "5598d470",
   "metadata": {},
   "outputs": [],
   "source": [
    "X_train, X_test, y_train, y_test = train_test_split(X_mnist_01, y_mnist_01,\n",
    "                                                        test_size=0.33,\n",
    "                                                        shuffle=False)"
   ]
  },
  {
   "cell_type": "code",
   "execution_count": null,
   "id": "671df6dd",
   "metadata": {},
   "outputs": [],
   "source": []
  },
  {
   "cell_type": "code",
   "execution_count": null,
   "id": "4271e621",
   "metadata": {},
   "outputs": [],
   "source": []
  }
 ],
 "metadata": {
  "kernelspec": {
   "display_name": "Python 3 (ipykernel)",
   "language": "python",
   "name": "python3"
  },
  "language_info": {
   "codemirror_mode": {
    "name": "ipython",
    "version": 3
   },
   "file_extension": ".py",
   "mimetype": "text/x-python",
   "name": "python",
   "nbconvert_exporter": "python",
   "pygments_lexer": "ipython3",
   "version": "3.9.7"
  }
 },
 "nbformat": 4,
 "nbformat_minor": 5
}
